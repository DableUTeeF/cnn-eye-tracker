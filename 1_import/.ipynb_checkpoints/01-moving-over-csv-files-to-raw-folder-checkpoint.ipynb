{
 "cells": [
  {
   "cell_type": "code",
   "execution_count": 1,
   "metadata": {},
   "outputs": [],
   "source": [
    "import os\n",
    "import pandas as pd"
   ]
  },
  {
   "cell_type": "code",
   "execution_count": 2,
   "metadata": {},
   "outputs": [],
   "source": [
    "IMG_PATH = \"D:\\\\FramesDataset\"\n",
    "DATASET_PATH = \"D:\\\\david_thesis\\\\0_data_lan\\\\datasets\\\\raw\""
   ]
  },
  {
   "cell_type": "code",
   "execution_count": 3,
   "metadata": {},
   "outputs": [
    {
     "data": {
      "text/plain": [
       "'D:\\\\FramesDataset\\\\P_01'"
      ]
     },
     "execution_count": 3,
     "metadata": {},
     "output_type": "execute_result"
    }
   ],
   "source": [
    "image_folders = [IMG_PATH + '\\\\' + n for n in os.listdir(IMG_PATH)]\n",
    "image_folders[0]"
   ]
  },
  {
   "cell_type": "code",
   "execution_count": 4,
   "metadata": {},
   "outputs": [],
   "source": [
    "num = 0\n",
    "all_csv = {}\n",
    "for f in image_folders:\n",
    "    for subf in [os.path.join(f, p) for p in os.listdir(f)]:\n",
    "        for file_name in os.listdir(subf):\n",
    "            if file_name.count('csv') > 0:\n",
    "                all_csv[str(num) + \"_\" + file_name] = subf + '\\\\' + file_name\n",
    "                num += 1"
   ]
  },
  {
   "cell_type": "code",
   "execution_count": 5,
   "metadata": {},
   "outputs": [
    {
     "data": {
      "text/plain": [
       "268"
      ]
     },
     "execution_count": 5,
     "metadata": {},
     "output_type": "execute_result"
    }
   ],
   "source": [
    "len(all_csv)"
   ]
  },
  {
   "cell_type": "code",
   "execution_count": 6,
   "metadata": {},
   "outputs": [
    {
     "name": "stdout",
     "output_type": "stream",
     "text": [
      "['participant', 'frameImageFile', 'frameTimeEpoch', 'frameNum', 'mouseMoveX']\n"
     ]
    }
   ],
   "source": [
    "col_names = ['participant','frameImageFile','frameTimeEpoch','frameNum','mouseMoveX','mouseMoveY','mouseClickX','mouseClickY','keyPressed','keyPressedX','keyPressedY',\\\n",
    "             'tobiiLeftScreenGazeX','tobiiLeftScreenGazeY','tobiiRightScreenGazeX','tobiiRightScreenGazeY','webGazerX','webGazerY','clmPos','eyeFeatures']\n",
    "clmPos = [['clmPos_'+str(i)+'_'+c for c in ['x', 'y']] for i in range(71)]\n",
    "clmPos = [item for sub in clmPos for item in sub]\n",
    "col_names = col_names[:-2] + clmPos + ['eyeFeatures_'+str(i) for i in range(120)]\n",
    "print(col_names[:5])"
   ]
  },
  {
   "cell_type": "code",
   "execution_count": 8,
   "metadata": {
    "scrolled": false
   },
   "outputs": [
    {
     "name": "stdout",
     "output_type": "stream",
     "text": [
      "Moving: D:\\david_thesis\\0_data_lan\\datasets\\raw\\0_gazePredictionsDone.csv\n",
      "Moving: D:\\david_thesis\\0_data_lan\\datasets\\raw\\1_gazePredictionsDone.csv\n",
      "Moving: D:\\david_thesis\\0_data_lan\\datasets\\raw\\2_gazePredictionsDone.csv\n",
      "Moving: D:\\david_thesis\\0_data_lan\\datasets\\raw\\3_gazePredictionsDone.csv\n",
      "Moving: D:\\david_thesis\\0_data_lan\\datasets\\raw\\4_gazePredictionsDone.csv\n",
      "Moving: D:\\david_thesis\\0_data_lan\\datasets\\raw\\5_gazePredictionsDone.csv\n",
      "Moving: D:\\david_thesis\\0_data_lan\\datasets\\raw\\6_gazePredictionsDone.csv\n",
      "Moving: D:\\david_thesis\\0_data_lan\\datasets\\raw\\7_gazePredictionsDone.csv\n",
      "Moving: D:\\david_thesis\\0_data_lan\\datasets\\raw\\8_gazePredictionsDone.csv\n",
      "Moving: D:\\david_thesis\\0_data_lan\\datasets\\raw\\9_gazePredictionsDone.csv\n",
      "Moving: D:\\david_thesis\\0_data_lan\\datasets\\raw\\10_gazePredictionsDone.csv\n",
      "Moving: D:\\david_thesis\\0_data_lan\\datasets\\raw\\11_gazePredictionsDone.csv\n",
      "Moving: D:\\david_thesis\\0_data_lan\\datasets\\raw\\12_gazePredictionsDone.csv\n",
      "Moving: D:\\david_thesis\\0_data_lan\\datasets\\raw\\13_gazePredictionsDone.csv\n",
      "Moving: D:\\david_thesis\\0_data_lan\\datasets\\raw\\14_gazePredictionsDone.csv\n",
      "Moving: D:\\david_thesis\\0_data_lan\\datasets\\raw\\15_gazePredictionsDone.csv\n",
      "Moving: D:\\david_thesis\\0_data_lan\\datasets\\raw\\16_gazePredictionsDone.csv\n",
      "Moving: D:\\david_thesis\\0_data_lan\\datasets\\raw\\17_gazePredictionsDone.csv\n",
      "Moving: D:\\david_thesis\\0_data_lan\\datasets\\raw\\18_gazePredictionsDone.csv\n",
      "Moving: D:\\david_thesis\\0_data_lan\\datasets\\raw\\19_gazePredictionsDone.csv\n",
      "Moving: D:\\david_thesis\\0_data_lan\\datasets\\raw\\20_gazePredictionsDone.csv\n",
      "Moving: D:\\david_thesis\\0_data_lan\\datasets\\raw\\21_gazePredictionsDone.csv\n",
      "Moving: D:\\david_thesis\\0_data_lan\\datasets\\raw\\22_gazePredictionsDone.csv\n",
      "Moving: D:\\david_thesis\\0_data_lan\\datasets\\raw\\23_gazePredictionsDone.csv\n",
      "Moving: D:\\david_thesis\\0_data_lan\\datasets\\raw\\24_gazePredictionsDone.csv\n",
      "Moving: D:\\david_thesis\\0_data_lan\\datasets\\raw\\25_gazePredictionsDone.csv\n",
      "Moving: D:\\david_thesis\\0_data_lan\\datasets\\raw\\26_gazePredictionsDone.csv\n",
      "Moving: D:\\david_thesis\\0_data_lan\\datasets\\raw\\27_gazePredictionsDone.csv\n",
      "Moving: D:\\david_thesis\\0_data_lan\\datasets\\raw\\28_gazePredictionsDone.csv\n",
      "Moving: D:\\david_thesis\\0_data_lan\\datasets\\raw\\29_gazePredictionsDone.csv\n",
      "Moving: D:\\david_thesis\\0_data_lan\\datasets\\raw\\30_gazePredictionsDone.csv\n",
      "Moving: D:\\david_thesis\\0_data_lan\\datasets\\raw\\31_gazePredictionsDone.csv\n",
      "Moving: D:\\david_thesis\\0_data_lan\\datasets\\raw\\32_gazePredictionsDone.csv\n",
      "Moving: D:\\david_thesis\\0_data_lan\\datasets\\raw\\33_gazePredictionsDone.csv\n",
      "Moving: D:\\david_thesis\\0_data_lan\\datasets\\raw\\34_gazePredictionsDone.csv\n",
      "Moving: D:\\david_thesis\\0_data_lan\\datasets\\raw\\35_gazePredictionsDone.csv\n",
      "Moving: D:\\david_thesis\\0_data_lan\\datasets\\raw\\36_gazePredictionsDone.csv\n",
      "Moving: D:\\david_thesis\\0_data_lan\\datasets\\raw\\37_gazePredictionsDone.csv\n",
      "Moving: D:\\david_thesis\\0_data_lan\\datasets\\raw\\38_gazePredictionsDone.csv\n",
      "Moving: D:\\david_thesis\\0_data_lan\\datasets\\raw\\39_gazePredictionsDone.csv\n",
      "Moving: D:\\david_thesis\\0_data_lan\\datasets\\raw\\40_gazePredictionsDone.csv\n",
      "Moving: D:\\david_thesis\\0_data_lan\\datasets\\raw\\41_gazePredictionsDone.csv\n",
      "Moving: D:\\david_thesis\\0_data_lan\\datasets\\raw\\42_gazePredictionsDone.csv\n",
      "Moving: D:\\david_thesis\\0_data_lan\\datasets\\raw\\43_gazePredictionsDone.csv\n",
      "Moving: D:\\david_thesis\\0_data_lan\\datasets\\raw\\44_gazePredictionsDone.csv\n",
      "Moving: D:\\david_thesis\\0_data_lan\\datasets\\raw\\45_gazePredictionsDone.csv\n",
      "Moving: D:\\david_thesis\\0_data_lan\\datasets\\raw\\46_gazePredictionsDone.csv\n",
      "Moving: D:\\david_thesis\\0_data_lan\\datasets\\raw\\47_gazePredictionsDone.csv\n",
      "Moving: D:\\david_thesis\\0_data_lan\\datasets\\raw\\48_gazePredictionsDone.csv\n",
      "Moving: D:\\david_thesis\\0_data_lan\\datasets\\raw\\49_gazePredictionsDone.csv\n",
      "Moving: D:\\david_thesis\\0_data_lan\\datasets\\raw\\50_gazePredictionsDone.csv\n",
      "Moving: D:\\david_thesis\\0_data_lan\\datasets\\raw\\51_gazePredictionsDone.csv\n",
      "Moving: D:\\david_thesis\\0_data_lan\\datasets\\raw\\52_gazePredictionsDone.csv\n",
      "Moving: D:\\david_thesis\\0_data_lan\\datasets\\raw\\53_gazePredictionsDone.csv\n",
      "Moving: D:\\david_thesis\\0_data_lan\\datasets\\raw\\54_gazePredictionsDone.csv\n",
      "Moving: D:\\david_thesis\\0_data_lan\\datasets\\raw\\55_gazePredictionsDone.csv\n",
      "Moving: D:\\david_thesis\\0_data_lan\\datasets\\raw\\56_gazePredictionsDone.csv\n",
      "Moving: D:\\david_thesis\\0_data_lan\\datasets\\raw\\57_gazePredictionsDone.csv\n",
      "Moving: D:\\david_thesis\\0_data_lan\\datasets\\raw\\58_gazePredictionsDone.csv\n",
      "Moving: D:\\david_thesis\\0_data_lan\\datasets\\raw\\59_gazePredictionsDone.csv\n",
      "Moving: D:\\david_thesis\\0_data_lan\\datasets\\raw\\60_gazePredictionsDone.csv\n",
      "Moving: D:\\david_thesis\\0_data_lan\\datasets\\raw\\61_gazePredictionsDone.csv\n",
      "Moving: D:\\david_thesis\\0_data_lan\\datasets\\raw\\62_gazePredictionsDone.csv\n",
      "Moving: D:\\david_thesis\\0_data_lan\\datasets\\raw\\63_gazePredictionsDone.csv\n",
      "Moving: D:\\david_thesis\\0_data_lan\\datasets\\raw\\64_gazePredictionsDone.csv\n"
     ]
    },
    {
     "name": "stderr",
     "output_type": "stream",
     "text": [
      "c:\\program files\\python36\\lib\\site-packages\\IPython\\core\\interactiveshell.py:2785: DtypeWarning: Columns (2,3,11,12,13,14,15,16,17,18,19,20,21,22,23,24,25,26,27,28,29,30,31,32,33,34,35,36,37,38,39,40,41,42,43,44,45,46,47,48,49,50,51,52,53,54,55,56,57,58,59,60,61,62,63,64,65,66,67,68,69,70,71,72,73,74,75,76,77,78,79,80,81,82,83,84,85,86,87,88,89,90,91,92,93,94,95,96,97,98,99,100,101,102,103,104,105,106,107,108,109,110,111,112,113,114,115,116,117,118,119,120,121,122,123,124,125,126,127,128,129,130,131,132,133,134,135,136,137,138,139,140,141,142,143,144,145,146,147,148,149,150,151,152,153,154,155,156,157,158,159,160,161,162,163,164,165,166,167,168,169,170,171,172,173,174,175,176,177,178,179,180,181,182,183,184,185,186,187,188,189,190,191,192,193,194,195,196,197,198,199,200,201,202,203,204,205,206,207,208,209,210,211,212,213,214,215,216,217,218,219,220,221,222,223,224,225,226,227,228,229,230,231,232,233,234,235,236,237,238,239,240,241,242,243,244,245,246,247,248,249,250,251,252,253,254,255,256,257,258,259,260,261,262,263,264,265,266,267,268,269,270,271,272,273,274,275,276,277,278) have mixed types. Specify dtype option on import or set low_memory=False.\n",
      "  interactivity=interactivity, compiler=compiler, result=result)\n"
     ]
    },
    {
     "name": "stdout",
     "output_type": "stream",
     "text": [
      "Moving: D:\\david_thesis\\0_data_lan\\datasets\\raw\\65_gazePredictionsDone.csv\n",
      "Moving: D:\\david_thesis\\0_data_lan\\datasets\\raw\\66_gazePredictionsDone.csv\n",
      "Moving: D:\\david_thesis\\0_data_lan\\datasets\\raw\\67_gazePredictionsDone.csv\n",
      "Moving: D:\\david_thesis\\0_data_lan\\datasets\\raw\\68_gazePredictionsDone.csv\n",
      "Moving: D:\\david_thesis\\0_data_lan\\datasets\\raw\\69_gazePredictionsDone.csv\n",
      "Moving: D:\\david_thesis\\0_data_lan\\datasets\\raw\\70_gazePredictionsDone.csv\n",
      "Moving: D:\\david_thesis\\0_data_lan\\datasets\\raw\\71_gazePredictionsDone.csv\n",
      "Moving: D:\\david_thesis\\0_data_lan\\datasets\\raw\\72_gazePredictionsDone.csv\n",
      "Moving: D:\\david_thesis\\0_data_lan\\datasets\\raw\\73_gazePredictionsDone.csv\n",
      "Moving: D:\\david_thesis\\0_data_lan\\datasets\\raw\\74_gazePredictionsDone.csv\n",
      "Moving: D:\\david_thesis\\0_data_lan\\datasets\\raw\\75_gazePredictionsDone.csv\n",
      "Moving: D:\\david_thesis\\0_data_lan\\datasets\\raw\\76_gazePredictionsDone.csv\n",
      "Moving: D:\\david_thesis\\0_data_lan\\datasets\\raw\\77_gazePredictionsDone.csv\n",
      "Moving: D:\\david_thesis\\0_data_lan\\datasets\\raw\\78_gazePredictionsDone.csv\n",
      "Moving: D:\\david_thesis\\0_data_lan\\datasets\\raw\\79_gazePredictionsDone.csv\n",
      "Moving: D:\\david_thesis\\0_data_lan\\datasets\\raw\\80_gazePredictionsDone.csv\n",
      "Moving: D:\\david_thesis\\0_data_lan\\datasets\\raw\\81_gazePredictionsDone.csv\n",
      "Moving: D:\\david_thesis\\0_data_lan\\datasets\\raw\\82_gazePredictionsDone.csv\n",
      "Moving: D:\\david_thesis\\0_data_lan\\datasets\\raw\\83_gazePredictionsDone.csv\n",
      "Moving: D:\\david_thesis\\0_data_lan\\datasets\\raw\\84_gazePredictionsDone.csv\n",
      "Moving: D:\\david_thesis\\0_data_lan\\datasets\\raw\\85_gazePredictionsDone.csv\n",
      "Moving: D:\\david_thesis\\0_data_lan\\datasets\\raw\\86_gazePredictionsDone.csv\n",
      "Moving: D:\\david_thesis\\0_data_lan\\datasets\\raw\\87_gazePredictionsDone.csv\n",
      "Moving: D:\\david_thesis\\0_data_lan\\datasets\\raw\\88_gazePredictionsDone.csv\n",
      "Moving: D:\\david_thesis\\0_data_lan\\datasets\\raw\\89_gazePredictionsDone.csv\n",
      "Moving: D:\\david_thesis\\0_data_lan\\datasets\\raw\\90_gazePredictionsDone.csv\n",
      "Moving: D:\\david_thesis\\0_data_lan\\datasets\\raw\\91_gazePredictionsDone.csv\n",
      "Moving: D:\\david_thesis\\0_data_lan\\datasets\\raw\\92_gazePredictionsDone.csv\n",
      "Moving: D:\\david_thesis\\0_data_lan\\datasets\\raw\\93_gazePredictionsDone.csv\n",
      "Moving: D:\\david_thesis\\0_data_lan\\datasets\\raw\\94_gazePredictionsDone.csv\n",
      "Moving: D:\\david_thesis\\0_data_lan\\datasets\\raw\\95_gazePredictionsDone.csv\n",
      "Moving: D:\\david_thesis\\0_data_lan\\datasets\\raw\\96_gazePredictionsDone.csv\n",
      "Moving: D:\\david_thesis\\0_data_lan\\datasets\\raw\\97_gazePredictionsDone.csv\n",
      "Moving: D:\\david_thesis\\0_data_lan\\datasets\\raw\\98_gazePredictionsDone.csv\n",
      "Moving: D:\\david_thesis\\0_data_lan\\datasets\\raw\\99_gazePredictionsDone.csv\n",
      "Moving: D:\\david_thesis\\0_data_lan\\datasets\\raw\\100_gazePredictionsDone.csv\n",
      "Moving: D:\\david_thesis\\0_data_lan\\datasets\\raw\\101_gazePredictionsDone.csv\n",
      "Moving: D:\\david_thesis\\0_data_lan\\datasets\\raw\\102_gazePredictionsDone.csv\n",
      "Moving: D:\\david_thesis\\0_data_lan\\datasets\\raw\\103_gazePredictionsDone.csv\n",
      "Moving: D:\\david_thesis\\0_data_lan\\datasets\\raw\\104_gazePredictionsDone.csv\n",
      "Moving: D:\\david_thesis\\0_data_lan\\datasets\\raw\\105_gazePredictionsDone.csv\n",
      "Moving: D:\\david_thesis\\0_data_lan\\datasets\\raw\\106_gazePredictionsDone.csv\n",
      "Moving: D:\\david_thesis\\0_data_lan\\datasets\\raw\\107_gazePredictionsDone.csv\n",
      "Moving: D:\\david_thesis\\0_data_lan\\datasets\\raw\\108_gazePredictionsDone.csv\n",
      "Moving: D:\\david_thesis\\0_data_lan\\datasets\\raw\\109_gazePredictionsDone.csv\n",
      "Moving: D:\\david_thesis\\0_data_lan\\datasets\\raw\\110_gazePredictionsDone.csv\n",
      "Moving: D:\\david_thesis\\0_data_lan\\datasets\\raw\\111_gazePredictionsDone.csv\n",
      "Moving: D:\\david_thesis\\0_data_lan\\datasets\\raw\\112_gazePredictionsDone.csv\n",
      "Moving: D:\\david_thesis\\0_data_lan\\datasets\\raw\\113_gazePredictionsDone.csv\n",
      "Moving: D:\\david_thesis\\0_data_lan\\datasets\\raw\\114_gazePredictionsDone.csv\n",
      "Moving: D:\\david_thesis\\0_data_lan\\datasets\\raw\\115_gazePredictionsDone.csv\n",
      "Moving: D:\\david_thesis\\0_data_lan\\datasets\\raw\\116_gazePredictionsDone.csv\n",
      "Moving: D:\\david_thesis\\0_data_lan\\datasets\\raw\\117_gazePredictionsDone.csv\n",
      "Moving: D:\\david_thesis\\0_data_lan\\datasets\\raw\\118_gazePredictionsDone.csv\n",
      "Moving: D:\\david_thesis\\0_data_lan\\datasets\\raw\\119_gazePredictionsDone.csv\n",
      "Moving: D:\\david_thesis\\0_data_lan\\datasets\\raw\\120_gazePredictionsDone.csv\n",
      "Moving: D:\\david_thesis\\0_data_lan\\datasets\\raw\\121_gazePredictionsDone.csv\n",
      "Moving: D:\\david_thesis\\0_data_lan\\datasets\\raw\\122_gazePredictionsDone.csv\n",
      "Moving: D:\\david_thesis\\0_data_lan\\datasets\\raw\\123_gazePredictionsDone.csv\n"
     ]
    },
    {
     "ename": "UnicodeDecodeError",
     "evalue": "'utf-8' codec can't decode byte 0xb0 in position 2: invalid start byte",
     "output_type": "error",
     "traceback": [
      "\u001b[1;31m---------------------------------------------------------------------------\u001b[0m",
      "\u001b[1;31mUnicodeDecodeError\u001b[0m                        Traceback (most recent call last)",
      "\u001b[1;32mpandas\\_libs\\parsers.pyx\u001b[0m in \u001b[0;36mpandas._libs.parsers.TextReader._convert_tokens\u001b[1;34m()\u001b[0m\n",
      "\u001b[1;32mpandas\\_libs\\parsers.pyx\u001b[0m in \u001b[0;36mpandas._libs.parsers.TextReader._convert_with_dtype\u001b[1;34m()\u001b[0m\n",
      "\u001b[1;32mpandas\\_libs\\parsers.pyx\u001b[0m in \u001b[0;36mpandas._libs.parsers.TextReader._string_convert\u001b[1;34m()\u001b[0m\n",
      "\u001b[1;32mpandas\\_libs\\parsers.pyx\u001b[0m in \u001b[0;36mpandas._libs.parsers._string_box_utf8\u001b[1;34m()\u001b[0m\n",
      "\u001b[1;31mUnicodeDecodeError\u001b[0m: 'utf-8' codec can't decode byte 0xb0 in position 2: invalid start byte",
      "\nDuring handling of the above exception, another exception occurred:\n",
      "\u001b[1;31mUnicodeDecodeError\u001b[0m                        Traceback (most recent call last)",
      "\u001b[1;32m<ipython-input-8-9af59b152372>\u001b[0m in \u001b[0;36m<module>\u001b[1;34m()\u001b[0m\n\u001b[0;32m      2\u001b[0m \u001b[1;32mfor\u001b[0m \u001b[0mname\u001b[0m\u001b[1;33m,\u001b[0m\u001b[0mpath\u001b[0m \u001b[1;32min\u001b[0m \u001b[0mall_csv\u001b[0m\u001b[1;33m.\u001b[0m\u001b[0mitems\u001b[0m\u001b[1;33m(\u001b[0m\u001b[1;33m)\u001b[0m\u001b[1;33m:\u001b[0m\u001b[1;33m\u001b[0m\u001b[0m\n\u001b[0;32m      3\u001b[0m     \u001b[0mprint\u001b[0m\u001b[1;33m(\u001b[0m\u001b[1;34m\"Moving:\"\u001b[0m\u001b[1;33m,\u001b[0m \u001b[0mDATASET_PATH\u001b[0m \u001b[1;33m+\u001b[0m \u001b[1;34m\"\\\\\"\u001b[0m \u001b[1;33m+\u001b[0m \u001b[0mname\u001b[0m\u001b[1;33m)\u001b[0m\u001b[1;33m\u001b[0m\u001b[0m\n\u001b[1;32m----> 4\u001b[1;33m     \u001b[0mdf\u001b[0m \u001b[1;33m=\u001b[0m \u001b[0mpd\u001b[0m\u001b[1;33m.\u001b[0m\u001b[0mread_csv\u001b[0m\u001b[1;33m(\u001b[0m\u001b[0mpath\u001b[0m\u001b[1;33m,\u001b[0m \u001b[0mnames\u001b[0m \u001b[1;33m=\u001b[0m \u001b[0mcol_names\u001b[0m\u001b[1;33m)\u001b[0m\u001b[1;33m\u001b[0m\u001b[0m\n\u001b[0m\u001b[0;32m      5\u001b[0m     \u001b[0mdf\u001b[0m\u001b[1;33m.\u001b[0m\u001b[0mto_csv\u001b[0m\u001b[1;33m(\u001b[0m\u001b[0mDATASET_PATH\u001b[0m \u001b[1;33m+\u001b[0m \u001b[1;34m\"\\\\\"\u001b[0m \u001b[1;33m+\u001b[0m \u001b[0mname\u001b[0m\u001b[1;33m,\u001b[0m \u001b[0mindex\u001b[0m \u001b[1;33m=\u001b[0m \u001b[1;32mNone\u001b[0m\u001b[1;33m)\u001b[0m\u001b[1;33m\u001b[0m\u001b[0m\n",
      "\u001b[1;32mc:\\program files\\python36\\lib\\site-packages\\pandas\\io\\parsers.py\u001b[0m in \u001b[0;36mparser_f\u001b[1;34m(filepath_or_buffer, sep, delimiter, header, names, index_col, usecols, squeeze, prefix, mangle_dupe_cols, dtype, engine, converters, true_values, false_values, skipinitialspace, skiprows, nrows, na_values, keep_default_na, na_filter, verbose, skip_blank_lines, parse_dates, infer_datetime_format, keep_date_col, date_parser, dayfirst, iterator, chunksize, compression, thousands, decimal, lineterminator, quotechar, quoting, escapechar, comment, encoding, dialect, tupleize_cols, error_bad_lines, warn_bad_lines, skipfooter, doublequote, delim_whitespace, low_memory, memory_map, float_precision)\u001b[0m\n\u001b[0;32m    676\u001b[0m                     skip_blank_lines=skip_blank_lines)\n\u001b[0;32m    677\u001b[0m \u001b[1;33m\u001b[0m\u001b[0m\n\u001b[1;32m--> 678\u001b[1;33m         \u001b[1;32mreturn\u001b[0m \u001b[0m_read\u001b[0m\u001b[1;33m(\u001b[0m\u001b[0mfilepath_or_buffer\u001b[0m\u001b[1;33m,\u001b[0m \u001b[0mkwds\u001b[0m\u001b[1;33m)\u001b[0m\u001b[1;33m\u001b[0m\u001b[0m\n\u001b[0m\u001b[0;32m    679\u001b[0m \u001b[1;33m\u001b[0m\u001b[0m\n\u001b[0;32m    680\u001b[0m     \u001b[0mparser_f\u001b[0m\u001b[1;33m.\u001b[0m\u001b[0m__name__\u001b[0m \u001b[1;33m=\u001b[0m \u001b[0mname\u001b[0m\u001b[1;33m\u001b[0m\u001b[0m\n",
      "\u001b[1;32mc:\\program files\\python36\\lib\\site-packages\\pandas\\io\\parsers.py\u001b[0m in \u001b[0;36m_read\u001b[1;34m(filepath_or_buffer, kwds)\u001b[0m\n\u001b[0;32m    444\u001b[0m \u001b[1;33m\u001b[0m\u001b[0m\n\u001b[0;32m    445\u001b[0m     \u001b[1;32mtry\u001b[0m\u001b[1;33m:\u001b[0m\u001b[1;33m\u001b[0m\u001b[0m\n\u001b[1;32m--> 446\u001b[1;33m         \u001b[0mdata\u001b[0m \u001b[1;33m=\u001b[0m \u001b[0mparser\u001b[0m\u001b[1;33m.\u001b[0m\u001b[0mread\u001b[0m\u001b[1;33m(\u001b[0m\u001b[0mnrows\u001b[0m\u001b[1;33m)\u001b[0m\u001b[1;33m\u001b[0m\u001b[0m\n\u001b[0m\u001b[0;32m    447\u001b[0m     \u001b[1;32mfinally\u001b[0m\u001b[1;33m:\u001b[0m\u001b[1;33m\u001b[0m\u001b[0m\n\u001b[0;32m    448\u001b[0m         \u001b[0mparser\u001b[0m\u001b[1;33m.\u001b[0m\u001b[0mclose\u001b[0m\u001b[1;33m(\u001b[0m\u001b[1;33m)\u001b[0m\u001b[1;33m\u001b[0m\u001b[0m\n",
      "\u001b[1;32mc:\\program files\\python36\\lib\\site-packages\\pandas\\io\\parsers.py\u001b[0m in \u001b[0;36mread\u001b[1;34m(self, nrows)\u001b[0m\n\u001b[0;32m   1034\u001b[0m                 \u001b[1;32mraise\u001b[0m \u001b[0mValueError\u001b[0m\u001b[1;33m(\u001b[0m\u001b[1;34m'skipfooter not supported for iteration'\u001b[0m\u001b[1;33m)\u001b[0m\u001b[1;33m\u001b[0m\u001b[0m\n\u001b[0;32m   1035\u001b[0m \u001b[1;33m\u001b[0m\u001b[0m\n\u001b[1;32m-> 1036\u001b[1;33m         \u001b[0mret\u001b[0m \u001b[1;33m=\u001b[0m \u001b[0mself\u001b[0m\u001b[1;33m.\u001b[0m\u001b[0m_engine\u001b[0m\u001b[1;33m.\u001b[0m\u001b[0mread\u001b[0m\u001b[1;33m(\u001b[0m\u001b[0mnrows\u001b[0m\u001b[1;33m)\u001b[0m\u001b[1;33m\u001b[0m\u001b[0m\n\u001b[0m\u001b[0;32m   1037\u001b[0m \u001b[1;33m\u001b[0m\u001b[0m\n\u001b[0;32m   1038\u001b[0m         \u001b[1;31m# May alter columns / col_dict\u001b[0m\u001b[1;33m\u001b[0m\u001b[1;33m\u001b[0m\u001b[0m\n",
      "\u001b[1;32mc:\\program files\\python36\\lib\\site-packages\\pandas\\io\\parsers.py\u001b[0m in \u001b[0;36mread\u001b[1;34m(self, nrows)\u001b[0m\n\u001b[0;32m   1846\u001b[0m     \u001b[1;32mdef\u001b[0m \u001b[0mread\u001b[0m\u001b[1;33m(\u001b[0m\u001b[0mself\u001b[0m\u001b[1;33m,\u001b[0m \u001b[0mnrows\u001b[0m\u001b[1;33m=\u001b[0m\u001b[1;32mNone\u001b[0m\u001b[1;33m)\u001b[0m\u001b[1;33m:\u001b[0m\u001b[1;33m\u001b[0m\u001b[0m\n\u001b[0;32m   1847\u001b[0m         \u001b[1;32mtry\u001b[0m\u001b[1;33m:\u001b[0m\u001b[1;33m\u001b[0m\u001b[0m\n\u001b[1;32m-> 1848\u001b[1;33m             \u001b[0mdata\u001b[0m \u001b[1;33m=\u001b[0m \u001b[0mself\u001b[0m\u001b[1;33m.\u001b[0m\u001b[0m_reader\u001b[0m\u001b[1;33m.\u001b[0m\u001b[0mread\u001b[0m\u001b[1;33m(\u001b[0m\u001b[0mnrows\u001b[0m\u001b[1;33m)\u001b[0m\u001b[1;33m\u001b[0m\u001b[0m\n\u001b[0m\u001b[0;32m   1849\u001b[0m         \u001b[1;32mexcept\u001b[0m \u001b[0mStopIteration\u001b[0m\u001b[1;33m:\u001b[0m\u001b[1;33m\u001b[0m\u001b[0m\n\u001b[0;32m   1850\u001b[0m             \u001b[1;32mif\u001b[0m \u001b[0mself\u001b[0m\u001b[1;33m.\u001b[0m\u001b[0m_first_chunk\u001b[0m\u001b[1;33m:\u001b[0m\u001b[1;33m\u001b[0m\u001b[0m\n",
      "\u001b[1;32mpandas\\_libs\\parsers.pyx\u001b[0m in \u001b[0;36mpandas._libs.parsers.TextReader.read\u001b[1;34m()\u001b[0m\n",
      "\u001b[1;32mpandas\\_libs\\parsers.pyx\u001b[0m in \u001b[0;36mpandas._libs.parsers.TextReader._read_low_memory\u001b[1;34m()\u001b[0m\n",
      "\u001b[1;32mpandas\\_libs\\parsers.pyx\u001b[0m in \u001b[0;36mpandas._libs.parsers.TextReader._read_rows\u001b[1;34m()\u001b[0m\n",
      "\u001b[1;32mpandas\\_libs\\parsers.pyx\u001b[0m in \u001b[0;36mpandas._libs.parsers.TextReader._convert_column_data\u001b[1;34m()\u001b[0m\n",
      "\u001b[1;32mpandas\\_libs\\parsers.pyx\u001b[0m in \u001b[0;36mpandas._libs.parsers.TextReader._convert_tokens\u001b[1;34m()\u001b[0m\n",
      "\u001b[1;32mpandas\\_libs\\parsers.pyx\u001b[0m in \u001b[0;36mpandas._libs.parsers.TextReader._convert_with_dtype\u001b[1;34m()\u001b[0m\n",
      "\u001b[1;32mpandas\\_libs\\parsers.pyx\u001b[0m in \u001b[0;36mpandas._libs.parsers.TextReader._string_convert\u001b[1;34m()\u001b[0m\n",
      "\u001b[1;32mpandas\\_libs\\parsers.pyx\u001b[0m in \u001b[0;36mpandas._libs.parsers._string_box_utf8\u001b[1;34m()\u001b[0m\n",
      "\u001b[1;31mUnicodeDecodeError\u001b[0m: 'utf-8' codec can't decode byte 0xb0 in position 2: invalid start byte"
     ]
    }
   ],
   "source": [
    "# Start copying files\n",
    "for name,path in all_csv.items():\n",
    "    try:\n",
    "        print(\"Moving:\", DATASET_PATH + \"\\\\\" + name)\n",
    "        df = pd.read_csv(path, names = col_names)\n",
    "        df.to_csv(DATASET_PATH + \"\\\\\" + name, index = None)\n",
    "    except:\n",
    "        print(\"Unable to parse:\", DATASET_PATH + \"\\\\\" + name)"
   ]
  },
  {
   "cell_type": "code",
   "execution_count": null,
   "metadata": {},
   "outputs": [],
   "source": [
    "pwd"
   ]
  },
  {
   "cell_type": "code",
   "execution_count": null,
   "metadata": {},
   "outputs": [],
   "source": []
  }
 ],
 "metadata": {
  "kernelspec": {
   "display_name": "Python 3",
   "language": "python",
   "name": "python3"
  },
  "language_info": {
   "codemirror_mode": {
    "name": "ipython",
    "version": 3
   },
   "file_extension": ".py",
   "mimetype": "text/x-python",
   "name": "python",
   "nbconvert_exporter": "python",
   "pygments_lexer": "ipython3",
   "version": "3.6.5"
  }
 },
 "nbformat": 4,
 "nbformat_minor": 2
}
