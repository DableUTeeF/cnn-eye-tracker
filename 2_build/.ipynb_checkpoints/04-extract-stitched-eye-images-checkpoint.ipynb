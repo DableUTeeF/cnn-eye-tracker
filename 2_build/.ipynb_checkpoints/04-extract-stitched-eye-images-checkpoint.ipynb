{
 "cells": [
  {
   "cell_type": "code",
   "execution_count": 2,
   "metadata": {},
   "outputs": [],
   "source": [
    "import os, math\n",
    "import pandas as pd\n",
    "import numpy as np\n",
    "import matplotlib.pyplot as plt\n",
    "import seaborn as sns\n",
    "from PIL import Image\n",
    "from utils import *"
   ]
  },
  {
   "cell_type": "code",
   "execution_count": 3,
   "metadata": {},
   "outputs": [],
   "source": [
    "IMG_PATH = \"D:\\\\FramesDataset\\\\\"\n",
    "DATASET_PATH = \"D:\\\\david_thesis\\\\0_data_lan\\\\datasets\\\\\"\n",
    "RAW_PATH = DATASET_PATH + \"raw\\\\\"\n",
    "MST_PATH = DATASET_PATH + \"mst\\\\\"\n",
    "STITCH_EYE_PATH = MST_PATH + \"stitched_eyes\\\\\""
   ]
  },
  {
   "cell_type": "code",
   "execution_count": 5,
   "metadata": {},
   "outputs": [
    {
     "data": {
      "text/plain": [
       "(642719, 151)"
      ]
     },
     "execution_count": 5,
     "metadata": {},
     "output_type": "execute_result"
    }
   ],
   "source": [
    "df = pd.read_csv(MST_PATH + 'all_img_facial_lankmarks.csv')\n",
    "df.shape"
   ]
  },
  {
   "cell_type": "code",
   "execution_count": 6,
   "metadata": {},
   "outputs": [
    {
     "name": "stdout",
     "output_type": "stream",
     "text": [
      "Step: 0\n",
      "Step: 10000\n",
      "Step: 20000\n",
      "Step: 30000\n",
      "Step: 40000\n",
      "Step: 50000\n",
      "Step: 60000\n",
      "Step: 70000\n",
      "Step: 80000\n",
      "Step: 90000\n",
      "Step: 100000\n",
      "Step: 110000\n",
      "Step: 120000\n",
      "Step: 130000\n",
      "Step: 140000\n",
      "Step: 150000\n",
      "Step: 160000\n",
      "Step: 170000\n",
      "Step: 180000\n",
      "Step: 190000\n",
      "Step: 200000\n",
      "Step: 210000\n",
      "Step: 220000\n",
      "Step: 230000\n",
      "Step: 240000\n",
      "Step: 250000\n",
      "Step: 260000\n",
      "Step: 270000\n",
      "Step: 280000\n",
      "Step: 290000\n",
      "Step: 300000\n",
      "Step: 310000\n",
      "Step: 320000\n",
      "Step: 330000\n",
      "Step: 340000\n",
      "Step: 350000\n",
      "Step: 360000\n",
      "Step: 370000\n",
      "Step: 380000\n",
      "Step: 390000\n",
      "Step: 400000\n",
      "Step: 410000\n",
      "Step: 420000\n",
      "Step: 430000\n",
      "Step: 440000\n",
      "Step: 450000\n",
      "Step: 460000\n",
      "Step: 470000\n",
      "Step: 480000\n",
      "Step: 490000\n",
      "Step: 500000\n",
      "Step: 510000\n",
      "Step: 520000\n",
      "Step: 530000\n",
      "Step: 540000\n",
      "Step: 550000\n",
      "Step: 560000\n",
      "Step: 570000\n",
      "Step: 580000\n",
      "Step: 590000\n",
      "Step: 600000\n",
      "Step: 610000\n",
      "Step: 620000\n",
      "Step: 630000\n",
      "Step: 640000\n"
     ]
    }
   ],
   "source": [
    "y_resize = int(20)\n",
    "x_resize = int(y_resize * 2.5)\n",
    "\n",
    "# Extract Stitched eye images\n",
    "for idx in df.index:\n",
    "    if idx % 10000 == 0: print(\"Step:\", idx)\n",
    "    img = Image.open(df['frameImageFile'][idx])\n",
    "    left_crop, right_crop = simple_eye_box(df, idx)\n",
    "    stitch = crop_resize_stitch(img, left_crop, right_crop, x_resize, y_resize)\n",
    "    stitch.save(fp = STITCH_EYE_PATH + str(idx), format = 'bmp')"
   ]
  },
  {
   "cell_type": "code",
   "execution_count": null,
   "metadata": {},
   "outputs": [],
   "source": []
  }
 ],
 "metadata": {
  "kernelspec": {
   "display_name": "Python 3",
   "language": "python",
   "name": "python3"
  },
  "language_info": {
   "codemirror_mode": {
    "name": "ipython",
    "version": 3
   },
   "file_extension": ".py",
   "mimetype": "text/x-python",
   "name": "python",
   "nbconvert_exporter": "python",
   "pygments_lexer": "ipython3",
   "version": "3.6.5"
  }
 },
 "nbformat": 4,
 "nbformat_minor": 2
}
